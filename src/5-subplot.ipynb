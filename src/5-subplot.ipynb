{
 "cells": [
  {
   "cell_type": "markdown",
   "metadata": {},
   "source": [
    "### Exercise 5: Subplot Layout"
   ]
  },
  {
   "cell_type": "code",
   "execution_count": null,
   "metadata": {},
   "outputs": [],
   "source": [
    "# TASK: Create a 2x2 subplot layout.\n",
    "# Plot a line chart in the first subplot, a bar chart in the second, a scatter plot in the third, and a pie chart in the fourth.\n",
    "import matplotlib.pyplot as plt\n",
    "import numpy as np\n",
    "\n",
    "# Data for plots\n",
    "x = np.linspace(0, 10, 100)\n",
    "y = x**2\n",
    "\n",
    "categories = ['A', 'B', 'C', 'D']\n",
    "values = [5, 7, 3, 9]\n",
    "\n",
    "x_scatter = [1, 2, 3, 4, 5]\n",
    "y_scatter = [2, 4, 6, 8, 10]\n",
    "\n",
    "labels = ['Python', 'Java', 'C++', 'JavaScript']\n",
    "sizes = [40, 25, 20, 15]\n",
    "\n",
    "# Create subplots\n",
    "fig, axs = plt.subplots(2, 2, figsize=(10, 8))\n",
    "\n",
    "# Line plot\n",
    "axs[0, 0].plot(x, y, color='b', label=r'$y = x^2$')\n",
    "axs[0, 0].set_title(\"Line Chart\")\n",
    "axs[0, 0].set_xlabel(\"X values\")\n",
    "axs[0, 0].set_ylabel(\"Y values\")\n",
    "axs[0, 0].grid(True)\n",
    "axs[0, 0].legend()\n",
    "\n",
    "# Bar plot\n",
    "axs[0, 1].bar(categories, values, color=['red', 'blue', 'green', 'purple'])\n",
    "axs[0, 1].set_title(\"Bar Chart\")\n",
    "axs[0, 1].set_xlabel(\"Categories\")\n",
    "axs[0, 1].set_ylabel(\"Values\")\n",
    "axs[0, 1].grid(axis='y', linestyle='--', alpha=0.6)\n",
    "\n",
    "# Scatter plot\n",
    "axs[1, 0].scatter(x_scatter, y_scatter, color='blue', marker='o', s=100)\n",
    "for i in range(len(x_scatter)):\n",
    "    axs[1, 0].text(x_scatter[i], y_scatter[i], f'({x_scatter[i]}, {y_scatter[i]})', fontsize=10, ha='right', va='bottom')\n",
    "axs[1, 0].set_title(\"Scatter Plot\")\n",
    "axs[1, 0].set_xlabel(\"X values\")\n",
    "axs[1, 0].set_ylabel(\"Y values\")\n",
    "axs[1, 0].grid(True, linestyle='--', alpha=0.6)\n",
    "\n",
    "# Pie chart\n",
    "axs[1, 1].pie(sizes, labels=labels, autopct='%1.1f%%', startangle=140, colors=['blue', 'red', 'green', 'orange'])\n",
    "axs[1, 1].set_title(\"Pie Chart\")\n",
    "\n",
    "# Adjust layout\n",
    "plt.tight_layout()\n",
    "plt.show()\n"
   ]
  }
 ],
 "metadata": {
  "language_info": {
   "name": "python"
  }
 },
 "nbformat": 4,
 "nbformat_minor": 2
}
